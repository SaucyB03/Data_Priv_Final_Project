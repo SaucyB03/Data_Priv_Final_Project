{
 "cells": [
  {
   "cell_type": "markdown",
   "id": "bf454906",
   "metadata": {},
   "source": [
    "# Data Privacy Final Project\n",
    "### Bradon Soucy and Sam Will"
   ]
  },
  {
   "cell_type": "code",
   "execution_count": 68,
   "id": "3a3052fd",
   "metadata": {},
   "outputs": [],
   "source": [
    "import pandas as pd\n",
    "import numpy as np\n",
    "import csv\n",
    "from scipy import stats\n",
    "from sklearn.linear_model import LogisticRegression\n",
    "from sklearn.model_selection import train_test_split\n",
    "from sklearn import preprocessing\n",
    "import matplotlib.pyplot as plt\n",
    "\n",
    "s = pd.read_csv('https://raw.githubusercontent.com/rfordatascience/tidytuesday/master/data/2020/2020-01-21/spotify_songs.csv')"
   ]
  },
  {
   "cell_type": "markdown",
   "id": "b5ad1d29",
   "metadata": {},
   "source": [
    "## TODO:\n",
    "- change artist map to genre map\n",
    "- then alter the below code such genre map is the new y\n",
    "- Note this will mean you have to alter which columns you drop and normalize look at code below Data Notes"
   ]
  },
  {
   "cell_type": "code",
   "execution_count": 69,
   "id": "657a8978",
   "metadata": {},
   "outputs": [],
   "source": [
    "#s.head()"
   ]
  },
  {
   "cell_type": "code",
   "execution_count": 161,
   "id": "2ecc83cb",
   "metadata": {},
   "outputs": [
    {
     "name": "stdout",
     "output_type": "stream",
     "text": [
      "{'pop': 0, 'rap': 1, 'rock': 2, 'latin': 3, 'r&b': 4, 'edm': 5}\n"
     ]
    }
   ],
   "source": [
    "spotify = s.dropna()\n",
    "genre_map = {}\n",
    "for r in spotify['playlist_genre']:\n",
    "    if r not in genre_map.keys():\n",
    "        genre_map[r] = len(genre_map)\n",
    "print(genre_map)   "
   ]
  },
  {
   "cell_type": "markdown",
   "id": "c971dbab",
   "metadata": {},
   "source": [
    "# Data Notes\n",
    "- spotify = mother data\n",
    "- spotify_X = Important data (- track name) (Test w/ genre-subgenre-both)\n",
    "- spotify_ Y = track name"
   ]
  },
  {
   "cell_type": "code",
   "execution_count": 162,
   "id": "4bc10903",
   "metadata": {},
   "outputs": [
    {
     "name": "stdout",
     "output_type": "stream",
     "text": [
      "   track_popularity  danceability    energy       key  loudness      mode  \\\n",
      "0          0.357191      0.404817  0.495738  0.032472  0.158675  0.005412   \n",
      "1          0.407131      0.441160  0.495242  0.066842  0.143212  0.006077   \n",
      "2          0.377789      0.364297  0.502460  0.005397  0.154535  0.000000   \n",
      "3          0.329770      0.394624  0.511143  0.038473  0.152360  0.005496   \n",
      "4          0.385719      0.363358  0.465658  0.005590  0.147167  0.005590   \n",
      "\n",
      "   speechiness  acousticness  instrumentalness  liveness   valence     tempo  \\\n",
      "0     0.000316      0.000552          0.000000  0.000353  0.002803  0.660457   \n",
      "1     0.000227      0.000440          0.002558  0.002169  0.004211  0.607489   \n",
      "2     0.000400      0.000429          0.000013  0.000594  0.003308  0.669270   \n",
      "3     0.000561      0.000158          0.000005  0.001121  0.001522  0.670290   \n",
      "4     0.000201      0.000449          0.000000  0.000466  0.004053  0.693042   \n",
      "\n",
      "   duration_ms  \n",
      "0     0.017567  \n",
      "1     0.016468  \n",
      "2     0.015887  \n",
      "3     0.015489  \n",
      "4     0.017614  \n",
      "---------------------------------------------------------\n",
      "0        0\n",
      "1        0\n",
      "2        0\n",
      "3        0\n",
      "4        0\n",
      "        ..\n",
      "32828    5\n",
      "32829    5\n",
      "32830    5\n",
      "32831    5\n",
      "32832    5\n",
      "Name: playlist_genre, Length: 32828, dtype: int64\n"
     ]
    },
    {
     "name": "stderr",
     "output_type": "stream",
     "text": [
      "/var/folders/vc/x4yhc5q11ms9ktrmg92y8jyc0000gn/T/ipykernel_1231/2541480081.py:19: SettingWithCopyWarning: \n",
      "A value is trying to be set on a copy of a slice from a DataFrame\n",
      "\n",
      "See the caveats in the documentation: https://pandas.pydata.org/pandas-docs/stable/user_guide/indexing.html#returning-a-view-versus-a-copy\n",
      "  spotify.rename(columns={'duration_ms': 'duration_min'}, inplace=True)\n",
      "/var/folders/vc/x4yhc5q11ms9ktrmg92y8jyc0000gn/T/ipykernel_1231/2541480081.py:29: SettingWithCopyWarning: \n",
      "A value is trying to be set on a copy of a slice from a DataFrame\n",
      "\n",
      "See the caveats in the documentation: https://pandas.pydata.org/pandas-docs/stable/user_guide/indexing.html#returning-a-view-versus-a-copy\n",
      "  spotify.rename(columns={'instrumentalness': 'instrumentalness_100'}, inplace=True)\n",
      "/var/folders/vc/x4yhc5q11ms9ktrmg92y8jyc0000gn/T/ipykernel_1231/2541480081.py:37: SettingWithCopyWarning: \n",
      "A value is trying to be set on a copy of a slice from a DataFrame\n",
      "\n",
      "See the caveats in the documentation: https://pandas.pydata.org/pandas-docs/stable/user_guide/indexing.html#returning-a-view-versus-a-copy\n",
      "  spotify.rename(columns={'danceability': 'danceability_100'}, inplace=True)\n",
      "/var/folders/vc/x4yhc5q11ms9ktrmg92y8jyc0000gn/T/ipykernel_1231/2541480081.py:45: SettingWithCopyWarning: \n",
      "A value is trying to be set on a copy of a slice from a DataFrame\n",
      "\n",
      "See the caveats in the documentation: https://pandas.pydata.org/pandas-docs/stable/user_guide/indexing.html#returning-a-view-versus-a-copy\n",
      "  spotify.rename(columns={'energy': 'energy_100'}, inplace=True)\n",
      "/var/folders/vc/x4yhc5q11ms9ktrmg92y8jyc0000gn/T/ipykernel_1231/2541480081.py:53: SettingWithCopyWarning: \n",
      "A value is trying to be set on a copy of a slice from a DataFrame\n",
      "\n",
      "See the caveats in the documentation: https://pandas.pydata.org/pandas-docs/stable/user_guide/indexing.html#returning-a-view-versus-a-copy\n",
      "  spotify.rename(columns={'loudness': 'loudness_plus'}, inplace=True)\n"
     ]
    }
   ],
   "source": [
    "# X_data\n",
    "spotify_X = spotify.copy()\n",
    "to_drop = ['track_id','track_name', 'track_artist', 'track_album_id', 'track_album_name', 'track_album_release_date', 'playlist_name', \n",
    "          'playlist_id',  'playlist_subgenre']\n",
    "spotify_X.drop(to_drop, inplace=True, axis=1)\n",
    "\n",
    "# Y data:\n",
    "spotify_X['playlist_genre'] = spotify_X['playlist_genre'].map(genre_map)\n",
    "spotify_y = spotify_X['playlist_genre']\n",
    "spotify_X.drop('playlist_genre', inplace=True, axis=1)\n",
    "\n",
    "\n",
    "# genre = pd.get_dummies(spotify_X, columns=['playlist_genre'])\n",
    "# spotify_X.drop(\"playlist_genre\", inplace=True, axis=1)\n",
    "\n",
    "dur_min = spotify_X['duration_ms'].apply(lambda x: x / 60000)\n",
    "# print(dur_min)\n",
    "spotify_X['duration_ms'] = dur_min\n",
    "spotify.rename(columns={'duration_ms': 'duration_min'}, inplace=True)\n",
    "data_normal = preprocessing.normalize(spotify_X)\n",
    "spotify_X = pd.DataFrame(data_normal, columns = spotify_X.columns)\n",
    "\n",
    "#  = pd.concat([normal,genre.iloc[:,-6:]], axis=1)\n",
    "\n",
    "# Got privacy to .311\n",
    "inst_100 = spotify_X['instrumentalness'].apply(lambda x: x * 100)\n",
    "# print(dur_min)\n",
    "spotify_X['instrumentalness'] = inst_100\n",
    "spotify.rename(columns={'instrumentalness': 'instrumentalness_100'}, inplace=True)\n",
    "data_normal = preprocessing.normalize(spotify_X)\n",
    "spotify_X = pd.DataFrame(data_normal, columns = spotify_X.columns)\n",
    "\n",
    "# Got privacy to .361\n",
    "dance_100 = spotify_X['danceability'].apply(lambda x: x * 100)\n",
    "# print(dur_min)\n",
    "spotify_X['danceability'] = dance_100\n",
    "spotify.rename(columns={'danceability': 'danceability_100'}, inplace=True)\n",
    "data_normal = preprocessing.normalize(spotify_X)\n",
    "spotify_X = pd.DataFrame(data_normal, columns = spotify_X.columns)\n",
    "\n",
    "# privacy = .3938\n",
    "energy_100 = spotify_X['energy'].apply(lambda x: x * 100)\n",
    "# print(dur_min)\n",
    "spotify_X['energy'] = energy_100\n",
    "spotify.rename(columns={'energy': 'energy_100'}, inplace=True)\n",
    "data_normal = preprocessing.normalize(spotify_X)\n",
    "spotify_X = pd.DataFrame(data_normal, columns = spotify_X.columns)\n",
    "\n",
    "# privacy = .3965\n",
    "loudness_plus = spotify_X['loudness'].apply(lambda x: x + .175130806040521)\n",
    "# print(dur_min)\n",
    "spotify_X['loudness'] = loudness_plus\n",
    "spotify.rename(columns={'loudness': 'loudness_plus'}, inplace=True)\n",
    "data_normal = preprocessing.normalize(spotify_X)\n",
    "spotify_X = pd.DataFrame(data_normal, columns = spotify_X.columns)\n",
    "\n",
    "\n",
    "print(spotify_X.head())\n",
    "print(\"---------------------------------------------------------\")\n",
    "print(spotify_y)"
   ]
  },
  {
   "cell_type": "code",
   "execution_count": 163,
   "id": "92d0a7d4",
   "metadata": {},
   "outputs": [
    {
     "name": "stdout",
     "output_type": "stream",
     "text": [
      "-0.33938175358246103\n"
     ]
    }
   ],
   "source": [
    "print(min(spotify_X['loudness']) + .175130806040521)"
   ]
  },
  {
   "cell_type": "markdown",
   "id": "ab9be8cb",
   "metadata": {},
   "source": [
    "# Notes\n",
    "\n",
    "- Input Features (X_train): X_train represents the input features or independent variables of your dataset.\n",
    "    - Each row of X_train corresponds to a data point, and each column corresponds to a specific feature or attribute of that data point.\n",
    "- Target Labels (y_train): y_train represents the target labels or dependent variables of your dataset.\n",
    "    - y_train would contain the class labels (spam or not spam) corresponding to each data point in X_train.\n",
    "- In summary, X_train holds the input data, and y_train holds the corresponding labels that you want your machine learning model to learn and predict. "
   ]
  },
  {
   "cell_type": "code",
   "execution_count": 164,
   "id": "d761ac2a",
   "metadata": {},
   "outputs": [
    {
     "name": "stdout",
     "output_type": "stream",
     "text": [
      "Train and test set sizes: 26262 6566\n",
      "Train and test set sizes: 26262 6566\n"
     ]
    }
   ],
   "source": [
    "# Split data into training and test sets\n",
    "X_train, X_test, y_train, y_test = train_test_split(spotify_X, spotify_y, test_size=0.2, random_state=42)\n",
    "\n",
    "\n",
    "print('Train and test set sizes:', len(X_train), len(X_test))\n",
    "print('Train and test set sizes:', len(y_train), len(y_test))"
   ]
  },
  {
   "cell_type": "code",
   "execution_count": 165,
   "id": "6d9b0401",
   "metadata": {},
   "outputs": [],
   "source": [
    "spotify = spotify.sort_values(by=['track_artist'], ascending=True)\n",
    "#spotify.head(25)"
   ]
  },
  {
   "cell_type": "code",
   "execution_count": 166,
   "id": "adfa5b9d",
   "metadata": {},
   "outputs": [
    {
     "name": "stdout",
     "output_type": "stream",
     "text": [
      "Model coefficients: [ 1.57363186 -0.99331744  0.12541945  0.20094644  1.9471457   0.53159398\n",
      " -0.67273507  0.01565338  0.14132546 -0.28336702 -0.16249766  0.37419222\n",
      " -1.61600638]\n",
      "Model accuracy: 0.39658848614072495\n"
     ]
    },
    {
     "name": "stderr",
     "output_type": "stream",
     "text": [
      "/Users/samwill/anaconda3/lib/python3.11/site-packages/sklearn/linear_model/_logistic.py:460: ConvergenceWarning: lbfgs failed to converge (status=1):\n",
      "STOP: TOTAL NO. of ITERATIONS REACHED LIMIT.\n",
      "\n",
      "Increase the number of iterations (max_iter) or scale the data as shown in:\n",
      "    https://scikit-learn.org/stable/modules/preprocessing.html\n",
      "Please also refer to the documentation for alternative solver options:\n",
      "    https://scikit-learn.org/stable/modules/linear_model.html#logistic-regression\n",
      "  n_iter_i = _check_optimize_result(\n"
     ]
    }
   ],
   "source": [
    "def train_model():\n",
    "    model = LogisticRegression().fit(X_train, y_train)\n",
    "    return model\n",
    "\n",
    "model = train_model()\n",
    "print('Model coefficients:', model.coef_[0])\n",
    "print('Model accuracy:', np.sum(model.predict(X_test) == y_test)/X_test.shape[0])"
   ]
  },
  {
   "cell_type": "code",
   "execution_count": null,
   "id": "141dfb5e",
   "metadata": {},
   "outputs": [],
   "source": []
  }
 ],
 "metadata": {
  "kernelspec": {
   "display_name": "Python 3 (ipykernel)",
   "language": "python",
   "name": "python3"
  },
  "language_info": {
   "codemirror_mode": {
    "name": "ipython",
    "version": 3
   },
   "file_extension": ".py",
   "mimetype": "text/x-python",
   "name": "python",
   "nbconvert_exporter": "python",
   "pygments_lexer": "ipython3",
   "version": "3.11.4"
  }
 },
 "nbformat": 4,
 "nbformat_minor": 5
}
