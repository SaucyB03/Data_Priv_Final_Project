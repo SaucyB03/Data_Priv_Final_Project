{
 "cells": [
  {
   "cell_type": "markdown",
   "id": "bf454906",
   "metadata": {},
   "source": [
    "# Data Privacy Final Project\n",
    "### Bradon Soucy and Sam Will"
   ]
  },
  {
   "cell_type": "code",
   "execution_count": null,
   "id": "3a3052fd",
   "metadata": {},
   "outputs": [],
   "source": [
    "import pandas as pd\n",
    "import numpy as np\n",
    "import csv\n",
    "from scipy import stats\n",
    "from sklearn.linear_model import LogisticRegression\n",
    "from sklearn.model_selection import train_test_split\n",
    "from sklearn import preprocessing\n",
    "import matplotlib.pyplot as plt\n",
    "\n",
    "spotify = pd.read_csv('https://raw.githubusercontent.com/rfordatascience/tidytuesday/master/data/2020/2020-01-21/spotify_songs.csv')\n",
    "spotify = spotify.dropna()"
   ]
  },
  {
   "cell_type": "markdown",
   "id": "b5ad1d29",
   "metadata": {},
   "source": [
    "## TODO:\n",
    "- change artist map to genre map\n",
    "- then alter the below code such genre map is the new y\n",
    "- Note this will mean you have to alter which columns you drop and normalize look at code below Data Notes"
   ]
  },
  {
   "cell_type": "code",
   "execution_count": null,
   "id": "657a8978",
   "metadata": {},
   "outputs": [],
   "source": [
    "# s.head()"
   ]
  },
  {
   "cell_type": "code",
   "execution_count": null,
   "id": "2ecc83cb",
   "metadata": {},
   "outputs": [],
   "source": [
    "\n",
    "genre_map = {}\n",
    "for r in spotify['playlist_genre']:\n",
    "    if r not in genre_map.keys():\n",
    "        genre_map[r] = len(genre_map)\n",
    "print(genre_map)   "
   ]
  },
  {
   "cell_type": "markdown",
   "id": "c971dbab",
   "metadata": {},
   "source": [
    "# Data Notes\n",
    "- spotify = mother data\n",
    "- spotify_X = Important data (- track name) (Test w/ genre-subgenre-both)\n",
    "- spotify_ Y = track name"
   ]
  },
  {
   "cell_type": "code",
   "execution_count": null,
   "id": "a1db114c",
   "metadata": {},
   "outputs": [],
   "source": [
    "# drop unnecessary columns for ML in X_data (i.e. cols with a lot of unique text)\n",
    "spotify_X = spotify.copy()\n",
    "to_drop = ['track_id','track_name', 'track_artist', 'track_album_id', 'track_album_name', 'track_album_release_date', 'playlist_name', \n",
    "          'playlist_id',  'playlist_subgenre']\n",
    "spotify_X.drop(to_drop, inplace=True, axis=1)\n",
    "\n",
    "# Y data:\n",
    "spotify_X['playlist_genre'] = spotify_X['playlist_genre'].map(genre_map)\n",
    "spotify_y = spotify_X['playlist_genre']\n",
    "spotify_X.drop('playlist_genre', inplace=True, axis=1)\n",
    "\n",
    "# Normalize data in an attempt to improve accuracy:\n",
    "# Duration_ms -> Duration_min\n",
    "dur_min = spotify_X['duration_ms'].apply(lambda x: x / 600000)\n",
    "spotify_X['duration_ms'] = dur_min\n",
    "spotify_X.rename(columns={'duration_ms': 'duration_min'}, inplace=True)\n",
    "\n",
    "# tempo: /100\n",
    "tempo_alt = spotify_X['tempo'].apply(lambda x: x / 1000)\n",
    "spotify_X['tempo'] = tempo_alt\n",
    "spotify_X.rename(columns={'tempo': 'tempo_1'}, inplace=True)\n",
    "\n",
    "# Popularity rank /100\n",
    "t_pop_alt = spotify_X['track_popularity'].apply(lambda x: x / 100)\n",
    "spotify_X['track_popularity'] = t_pop_alt\n",
    "spotify_X.rename(columns={'track_popularity': 'track_popularity_1'}, inplace=True)\n",
    "\n",
    "# loudness col\n",
    "loudness_plus = spotify_X['loudness'].apply(lambda x: (x + .175130806040521) / -10)\n",
    "spotify_X['loudness'] = loudness_plus\n",
    "spotify_X.rename(columns={'loudness': 'loudness_1'}, inplace=True)\n",
    "\n",
    "# Display new DF\n",
    "print(spotify_X.head())\n",
    "print(\"---------------------------------------------------------\")\n",
    "print(spotify_y)"
   ]
  },
  {
   "cell_type": "markdown",
   "id": "ab9be8cb",
   "metadata": {},
   "source": [
    "# Notes\n",
    "\n",
    "- Input Features (X_train): X_train represents the input features or independent variables of your dataset.\n",
    "    - Each row of X_train corresponds to a data point, and each column corresponds to a specific feature or attribute of that data point.\n",
    "- Target Labels (y_train): y_train represents the target labels or dependent variables of your dataset.\n",
    "    - y_train would contain the class labels (spam or not spam) corresponding to each data point in X_train.\n",
    "- In summary, X_train holds the input data, and y_train holds the corresponding labels that you want your machine learning model to learn and predict. "
   ]
  },
  {
   "cell_type": "code",
   "execution_count": null,
   "id": "d761ac2a",
   "metadata": {},
   "outputs": [],
   "source": [
    "# Split data into training and test sets\n",
    "X_train, X_test, y_train, y_test = train_test_split(spotify_X, spotify_y, test_size=0.2, random_state=42)\n",
    "\n",
    "print('Train and test set sizes:', len(X_train), len(X_test))\n",
    "print('Train and test set sizes:', len(y_train), len(y_test))"
   ]
  },
  {
   "cell_type": "code",
   "execution_count": null,
   "id": "adfa5b9d",
   "metadata": {},
   "outputs": [],
   "source": [
    "def train_model():\n",
    "    model = LogisticRegression().fit(X_train, y_train)\n",
    "    return model\n",
    "\n",
    "model = train_model()\n",
    "print('Model coefficients:', model.coef_[0])\n",
    "print('Model accuracy:', np.sum(model.predict(X_test) == y_test)/X_test.shape[0])"
   ]
  },
  {
   "cell_type": "code",
   "execution_count": null,
   "id": "141dfb5e",
   "metadata": {},
   "outputs": [],
   "source": []
  },
  {
   "cell_type": "code",
   "execution_count": null,
   "id": "56926317",
   "metadata": {},
   "outputs": [],
   "source": []
  },
  {
   "cell_type": "code",
   "execution_count": null,
   "id": "12278740",
   "metadata": {},
   "outputs": [],
   "source": []
  }
 ],
 "metadata": {
  "kernelspec": {
   "display_name": "Python 3 (ipykernel)",
   "language": "python",
   "name": "python3"
  },
  "language_info": {
   "codemirror_mode": {
    "name": "ipython",
    "version": 3
   },
   "file_extension": ".py",
   "mimetype": "text/x-python",
   "name": "python",
   "nbconvert_exporter": "python",
   "pygments_lexer": "ipython3",
   "version": "3.10.9"
  }
 },
 "nbformat": 4,
 "nbformat_minor": 5
}
