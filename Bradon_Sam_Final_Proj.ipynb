{
 "cells": [
  {
   "cell_type": "markdown",
   "id": "bf454906",
   "metadata": {},
   "source": [
    "# Data Privacy Final Project\n",
    "### Bradon Soucy and Sam Will"
   ]
  },
  {
   "cell_type": "code",
   "execution_count": 64,
   "id": "879e7f7c",
   "metadata": {},
   "outputs": [
    {
     "name": "stdout",
     "output_type": "stream",
     "text": [
      "0h00,: ,: \n",
      "2012.12.\n"
     ]
    }
   ],
   "source": [
    "import pandas as pd\n",
    "import numpy as np\n",
    "from scipy import stats\n",
    "import matplotlib.pyplot as plt\n",
    "\n",
    "mark = 88283\n",
    "# attacks = pd.read_csv('attacks.csv')\n",
    "with open('attacks.csv') as file:\n",
    "    f = file.read()\n",
    "    for i in range(len(f)):\n",
    "        if i == mark:\n",
    "#             print(f[i-10:i+10])\n",
    "            print(str(f[i-5:i]) + \": \" +str(f[i]) + \": \" + str(f[i+1: i+10]))"
   ]
  },
  {
   "cell_type": "code",
   "execution_count": null,
   "id": "24089a17",
   "metadata": {},
   "outputs": [],
   "source": []
  }
 ],
 "metadata": {
  "kernelspec": {
   "display_name": "Python 3 (ipykernel)",
   "language": "python",
   "name": "python3"
  },
  "language_info": {
   "codemirror_mode": {
    "name": "ipython",
    "version": 3
   },
   "file_extension": ".py",
   "mimetype": "text/x-python",
   "name": "python",
   "nbconvert_exporter": "python",
   "pygments_lexer": "ipython3",
   "version": "3.10.9"
  }
 },
 "nbformat": 4,
 "nbformat_minor": 5
}
