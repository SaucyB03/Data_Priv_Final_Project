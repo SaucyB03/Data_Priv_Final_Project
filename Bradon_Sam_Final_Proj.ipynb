{
 "cells": [
  {
   "cell_type": "markdown",
   "id": "bf454906",
   "metadata": {},
   "source": [
    "# Data Privacy Final Project\n",
    "### Bradon Soucy and Sam Will"
   ]
  },
  {
   "cell_type": "code",
   "execution_count": 25,
   "id": "879e7f7c",
   "metadata": {},
   "outputs": [
    {
     "name": "stdout",
     "output_type": "stream",
     "text": [
      "í\n"
     ]
    }
   ],
   "source": [
    "import pandas as pd\n",
    "import numpy as np\n",
    "from scipy import stats\n",
    "import matplotlib.pyplot as plt\n",
    "\n",
    "# mark = 117705\n",
    "attacks = pd.read_csv('https://raw.githubusercontent.com/SaucyB03/Data_Priv_Final_Project/main/attacks.csv')\n",
    "# with open('attacks.csv') as file:\n",
    "#     f = file.read()\n",
    "#     for i in range(len(f)):\n",
    "#         if i == mark:\n",
    "#             print(f[i])"
   ]
  },
  {
   "cell_type": "code",
   "execution_count": null,
   "id": "f9fd4484",
   "metadata": {},
   "outputs": [],
   "source": []
  }
 ],
 "metadata": {
  "kernelspec": {
   "display_name": "Python 3 (ipykernel)",
   "language": "python",
   "name": "python3"
  },
  "language_info": {
   "codemirror_mode": {
    "name": "ipython",
    "version": 3
   },
   "file_extension": ".py",
   "mimetype": "text/x-python",
   "name": "python",
   "nbconvert_exporter": "python",
   "pygments_lexer": "ipython3",
   "version": "3.10.9"
  }
 },
 "nbformat": 4,
 "nbformat_minor": 5
}
