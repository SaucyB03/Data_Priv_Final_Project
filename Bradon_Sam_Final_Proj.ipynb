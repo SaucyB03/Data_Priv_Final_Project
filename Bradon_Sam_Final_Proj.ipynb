{
 "cells": [
  {
   "cell_type": "markdown",
   "id": "bf454906",
   "metadata": {},
   "source": [
    "# Data Privacy Final Project\n",
    "### Bradon Soucy and Sam Will"
   ]
  },
  {
   "cell_type": "code",
   "execution_count": 1,
   "id": "879e7f7c",
   "metadata": {},
   "outputs": [],
   "source": [
    "import pandas as pd\n",
    "import numpy as np\n",
    "from scipy import stats\n",
    "import matplotlib.pyplot as plt"
   ]
  },
  {
   "cell_type": "code",
   "execution_count": 2,
   "id": "b841ec38",
   "metadata": {
    "scrolled": false
   },
   "outputs": [
    {
     "data": {
      "text/html": [
       "<div>\n",
       "<style scoped>\n",
       "    .dataframe tbody tr th:only-of-type {\n",
       "        vertical-align: middle;\n",
       "    }\n",
       "\n",
       "    .dataframe tbody tr th {\n",
       "        vertical-align: top;\n",
       "    }\n",
       "\n",
       "    .dataframe thead th {\n",
       "        text-align: right;\n",
       "    }\n",
       "</style>\n",
       "<table border=\"1\" class=\"dataframe\">\n",
       "  <thead>\n",
       "    <tr style=\"text-align: right;\">\n",
       "      <th></th>\n",
       "      <th>STUDY_ID</th>\n",
       "      <th>DAY</th>\n",
       "      <th>MONTH</th>\n",
       "      <th>YEAR</th>\n",
       "      <th>SAMPLE_DESC</th>\n",
       "      <th>PLOT</th>\n",
       "      <th>ID_SPECIES</th>\n",
       "      <th>LATITUDE</th>\n",
       "      <th>LONGITUDE</th>\n",
       "      <th>sum.allrawdata.ABUNDANCE</th>\n",
       "      <th>sum.allrawdata.BIOMASS</th>\n",
       "      <th>GENUS</th>\n",
       "      <th>SPECIES</th>\n",
       "      <th>GENUS_SPECIES</th>\n",
       "    </tr>\n",
       "  </thead>\n",
       "  <tbody>\n",
       "    <tr>\n",
       "      <th>0</th>\n",
       "      <td>10</td>\n",
       "      <td>NaN</td>\n",
       "      <td>NaN</td>\n",
       "      <td>1984</td>\n",
       "      <td>47.400000_-95.120000_12_Control_0_Medium</td>\n",
       "      <td>12</td>\n",
       "      <td>22</td>\n",
       "      <td>47.4</td>\n",
       "      <td>-95.12</td>\n",
       "      <td>1.0</td>\n",
       "      <td>0.0</td>\n",
       "      <td>Acer</td>\n",
       "      <td>rubrum</td>\n",
       "      <td>Acer rubrum</td>\n",
       "    </tr>\n",
       "    <tr>\n",
       "      <th>1</th>\n",
       "      <td>10</td>\n",
       "      <td>NaN</td>\n",
       "      <td>NaN</td>\n",
       "      <td>1984</td>\n",
       "      <td>47.400000_-95.120000_12_Control_0_Medium</td>\n",
       "      <td>12</td>\n",
       "      <td>23</td>\n",
       "      <td>47.4</td>\n",
       "      <td>-95.12</td>\n",
       "      <td>3.0</td>\n",
       "      <td>0.0</td>\n",
       "      <td>Acer</td>\n",
       "      <td>saccharum</td>\n",
       "      <td>Acer saccharum</td>\n",
       "    </tr>\n",
       "    <tr>\n",
       "      <th>2</th>\n",
       "      <td>10</td>\n",
       "      <td>NaN</td>\n",
       "      <td>NaN</td>\n",
       "      <td>1984</td>\n",
       "      <td>47.400000_-95.120000_12_Control_0_Medium</td>\n",
       "      <td>12</td>\n",
       "      <td>24</td>\n",
       "      <td>47.4</td>\n",
       "      <td>-95.12</td>\n",
       "      <td>1.0</td>\n",
       "      <td>0.0</td>\n",
       "      <td>Acer</td>\n",
       "      <td>spicatum</td>\n",
       "      <td>Acer spicatum</td>\n",
       "    </tr>\n",
       "    <tr>\n",
       "      <th>3</th>\n",
       "      <td>10</td>\n",
       "      <td>NaN</td>\n",
       "      <td>NaN</td>\n",
       "      <td>1984</td>\n",
       "      <td>47.400000_-95.120000_12_Control_0_Medium</td>\n",
       "      <td>12</td>\n",
       "      <td>607</td>\n",
       "      <td>47.4</td>\n",
       "      <td>-95.12</td>\n",
       "      <td>12.0</td>\n",
       "      <td>0.0</td>\n",
       "      <td>Corylus</td>\n",
       "      <td>cornuta</td>\n",
       "      <td>Corylus cornuta</td>\n",
       "    </tr>\n",
       "    <tr>\n",
       "      <th>4</th>\n",
       "      <td>10</td>\n",
       "      <td>NaN</td>\n",
       "      <td>NaN</td>\n",
       "      <td>1984</td>\n",
       "      <td>47.400000_-95.120000_12_Control_0_Small</td>\n",
       "      <td>12</td>\n",
       "      <td>1911</td>\n",
       "      <td>47.4</td>\n",
       "      <td>-95.12</td>\n",
       "      <td>1.0</td>\n",
       "      <td>0.0</td>\n",
       "      <td>Populus</td>\n",
       "      <td>pinnata</td>\n",
       "      <td>Populus pinnata</td>\n",
       "    </tr>\n",
       "  </tbody>\n",
       "</table>\n",
       "</div>"
      ],
      "text/plain": [
       "   STUDY_ID  DAY  MONTH  YEAR                               SAMPLE_DESC PLOT  \\\n",
       "0        10  NaN    NaN  1984  47.400000_-95.120000_12_Control_0_Medium   12   \n",
       "1        10  NaN    NaN  1984  47.400000_-95.120000_12_Control_0_Medium   12   \n",
       "2        10  NaN    NaN  1984  47.400000_-95.120000_12_Control_0_Medium   12   \n",
       "3        10  NaN    NaN  1984  47.400000_-95.120000_12_Control_0_Medium   12   \n",
       "4        10  NaN    NaN  1984   47.400000_-95.120000_12_Control_0_Small   12   \n",
       "\n",
       "   ID_SPECIES  LATITUDE  LONGITUDE  sum.allrawdata.ABUNDANCE  \\\n",
       "0          22      47.4     -95.12                       1.0   \n",
       "1          23      47.4     -95.12                       3.0   \n",
       "2          24      47.4     -95.12                       1.0   \n",
       "3         607      47.4     -95.12                      12.0   \n",
       "4        1911      47.4     -95.12                       1.0   \n",
       "\n",
       "   sum.allrawdata.BIOMASS    GENUS    SPECIES    GENUS_SPECIES  \n",
       "0                     0.0     Acer     rubrum      Acer rubrum  \n",
       "1                     0.0     Acer  saccharum   Acer saccharum  \n",
       "2                     0.0     Acer   spicatum    Acer spicatum  \n",
       "3                     0.0  Corylus    cornuta  Corylus cornuta  \n",
       "4                     0.0  Populus    pinnata  Populus pinnata  "
      ]
     },
     "execution_count": 2,
     "metadata": {},
     "output_type": "execute_result"
    }
   ],
   "source": [
    "bioQuery = pd.read_csv(\"BioTIMEQuery_24_06_2021.csv\", delimiter=',', encoding='ISO-8859-2', dtype={'PLOT': str}, usecols=[i for i in range(1,15)])\n",
    "pd.set_option('display.max_columns', None)\n",
    "bioQuery.head()"
   ]
  },
  {
   "cell_type": "code",
   "execution_count": 18,
   "id": "486efce4",
   "metadata": {
    "scrolled": true
   },
   "outputs": [],
   "source": [
    "# counts = bioQuery['YEAR'].value_counts()\n",
    "tenBioQ = bioQuery.iloc[::10].copy()\n",
    "cleanC = tenBioQ['YEAR'].value_counts()\n",
    "\n",
    "smallC = cleanC[cleanC.values >= 1000]\n",
    "# cRows = sum(smallC.values)\n",
    "# smallCC = counts[counts.values <= 10]\n",
    "# ccRows = sum(smallCC.values)\n",
    "\n",
    "# # total \n",
    "# print(len(smallC))\n",
    "# print(\"Rows included: \" + str(cRows))\n",
    "# print(len(smallCC))\n",
    "# print(\"Rows included: \" + str(ccRows))\n",
    "\n",
    "# print(counts)\n",
    "# print(cleanC)\n",
    "# print(smallC)"
   ]
  },
  {
   "cell_type": "code",
   "execution_count": 19,
   "id": "527ab49b",
   "metadata": {},
   "outputs": [
    {
     "ename": "KeyboardInterrupt",
     "evalue": "",
     "output_type": "error",
     "traceback": [
      "\u001b[1;31m---------------------------------------------------------------------------\u001b[0m",
      "\u001b[1;31mKeyboardInterrupt\u001b[0m                         Traceback (most recent call last)",
      "Cell \u001b[1;32mIn[19], line 6\u001b[0m\n\u001b[0;32m      4\u001b[0m wfile \u001b[38;5;241m=\u001b[39m \u001b[38;5;28mopen\u001b[39m(\u001b[38;5;124m\"\u001b[39m\u001b[38;5;124mclean.csv\u001b[39m\u001b[38;5;124m\"\u001b[39m, \u001b[38;5;124m'\u001b[39m\u001b[38;5;124mw\u001b[39m\u001b[38;5;124m'\u001b[39m, encoding\u001b[38;5;241m=\u001b[39m\u001b[38;5;124m'\u001b[39m\u001b[38;5;124mISO-8859-2\u001b[39m\u001b[38;5;124m'\u001b[39m)\n\u001b[0;32m      5\u001b[0m \u001b[38;5;28;01mwith\u001b[39;00m \u001b[38;5;28mopen\u001b[39m(\u001b[38;5;124m\"\u001b[39m\u001b[38;5;124mBioTIMEQuery_24_06_2021.csv\u001b[39m\u001b[38;5;124m\"\u001b[39m, encoding\u001b[38;5;241m=\u001b[39m\u001b[38;5;124m'\u001b[39m\u001b[38;5;124mISO-8859-2\u001b[39m\u001b[38;5;124m'\u001b[39m) \u001b[38;5;28;01mas\u001b[39;00m file:\n\u001b[1;32m----> 6\u001b[0m     \u001b[38;5;28;01mfor\u001b[39;00m line \u001b[38;5;129;01min\u001b[39;00m file:\n\u001b[0;32m      7\u001b[0m         \u001b[38;5;28;01mif\u001b[39;00m \u001b[38;5;129;01mnot\u001b[39;00m firstL:\n\u001b[0;32m      8\u001b[0m             gen_spec \u001b[38;5;241m=\u001b[39m line\u001b[38;5;241m.\u001b[39mreplace(\u001b[38;5;124m\"\u001b[39m\u001b[38;5;130;01m\\n\u001b[39;00m\u001b[38;5;124m\"\u001b[39m,\u001b[38;5;124m\"\u001b[39m\u001b[38;5;124m\"\u001b[39m)\u001b[38;5;241m.\u001b[39mreplace(\u001b[38;5;124m'\u001b[39m\u001b[38;5;124m\"\u001b[39m\u001b[38;5;124m'\u001b[39m,\u001b[38;5;124m'\u001b[39m\u001b[38;5;124m'\u001b[39m)\u001b[38;5;241m.\u001b[39msplit(\u001b[38;5;124m'\u001b[39m\u001b[38;5;124m,\u001b[39m\u001b[38;5;124m'\u001b[39m)[\u001b[38;5;241m14\u001b[39m]\n",
      "File \u001b[1;32m~\\anaconda3\\envs\\DataPriv\\lib\\encodings\\iso8859_2.py:22\u001b[0m, in \u001b[0;36mIncrementalDecoder.decode\u001b[1;34m(self, input, final)\u001b[0m\n\u001b[0;32m     21\u001b[0m \u001b[38;5;28;01mclass\u001b[39;00m \u001b[38;5;21;01mIncrementalDecoder\u001b[39;00m(codecs\u001b[38;5;241m.\u001b[39mIncrementalDecoder):\n\u001b[1;32m---> 22\u001b[0m     \u001b[38;5;28;01mdef\u001b[39;00m \u001b[38;5;21mdecode\u001b[39m(\u001b[38;5;28mself\u001b[39m, \u001b[38;5;28minput\u001b[39m, final\u001b[38;5;241m=\u001b[39m\u001b[38;5;28;01mFalse\u001b[39;00m):\n\u001b[0;32m     23\u001b[0m         \u001b[38;5;28;01mreturn\u001b[39;00m codecs\u001b[38;5;241m.\u001b[39mcharmap_decode(\u001b[38;5;28minput\u001b[39m,\u001b[38;5;28mself\u001b[39m\u001b[38;5;241m.\u001b[39merrors,decoding_table)[\u001b[38;5;241m0\u001b[39m]\n",
      "\u001b[1;31mKeyboardInterrupt\u001b[0m: "
     ]
    }
   ],
   "source": [
    "clean = 0\n",
    "count = 0\n",
    "firstL = True\n",
    "wfile = open(\"clean.csv\", 'w', encoding='ISO-8859-2')\n",
    "with open(\"BioTIMEQuery_24_06_2021.csv\", encoding='ISO-8859-2') as file:\n",
    "    for line in file:\n",
    "        if not firstL:\n",
    "            gen_spec = line.replace(\"\\n\",\"\").replace('\"','').split(',')[14]\n",
    "\n",
    "            if count % 10 == 0 and gen_spec in smallC:\n",
    "                clean +=1\n",
    "                wfile.write(line)\n",
    "        else:\n",
    "            firstL = False\n",
    "            wfile.write(line)\n",
    "        count+=1\n",
    "wfile.close()\n",
    "print(clean)"
   ]
  },
  {
   "cell_type": "code",
   "execution_count": null,
   "id": "0e026377",
   "metadata": {
    "scrolled": true
   },
   "outputs": [],
   "source": [
    "cBioQ = pd.read_csv(\"clean.csv\", delimiter=',', encoding='ISO-8859-2', dtype={'PLOT': str}, usecols=[i for i in range(1,15)])\n",
    "print(len(cBioQ))\n",
    "cBioQ.head()"
   ]
  },
  {
   "cell_type": "code",
   "execution_count": null,
   "id": "6b03da41",
   "metadata": {},
   "outputs": [],
   "source": [
    "sortBioQ = cBioQ.sort_values(by='YEAR', ascending=False)"
   ]
  },
  {
   "cell_type": "code",
   "execution_count": null,
   "id": "863a5167",
   "metadata": {},
   "outputs": [],
   "source": [
    "plt.plot(sortBioQ['YEAR'], sortBioQ['sum.allrawdata.BIOMASS'])"
   ]
  },
  {
   "cell_type": "code",
   "execution_count": null,
   "id": "215df402",
   "metadata": {},
   "outputs": [],
   "source": []
  }
 ],
 "metadata": {
  "kernelspec": {
   "display_name": "Python 3 (ipykernel)",
   "language": "python",
   "name": "python3"
  },
  "language_info": {
   "codemirror_mode": {
    "name": "ipython",
    "version": 3
   },
   "file_extension": ".py",
   "mimetype": "text/x-python",
   "name": "python",
   "nbconvert_exporter": "python",
   "pygments_lexer": "ipython3",
   "version": "3.10.9"
  }
 },
 "nbformat": 4,
 "nbformat_minor": 5
}
