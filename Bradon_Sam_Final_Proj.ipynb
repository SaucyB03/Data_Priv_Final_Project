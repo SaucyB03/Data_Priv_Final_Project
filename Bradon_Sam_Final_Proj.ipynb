{
 "cells": [
  {
   "cell_type": "markdown",
   "id": "bf454906",
   "metadata": {},
   "source": [
    "# Data Privacy Final Project\n",
    "### Bradon Soucy and Sam Will"
   ]
  },
  {
   "cell_type": "code",
   "execution_count": 3,
   "id": "879e7f7c",
   "metadata": {},
   "outputs": [],
   "source": [
    "import pandas as pd\n",
    "import numpy as np\n",
    "from scipy import stats\n",
    "import matplotlib.pyplot as plt\n",
    "\n",
    "spotify = pd.read_csv('https://raw.githubusercontent.com/rfordatascience/tidytuesday/master/data/2020/2020-01-21/spotify_songs.csv')"
   ]
  },
  {
   "cell_type": "code",
   "execution_count": 4,
   "id": "f28dbb91",
   "metadata": {},
   "outputs": [
    {
     "name": "stdout",
     "output_type": "stream",
     "text": [
      "32833\n"
     ]
    }
   ],
   "source": [
    "print(len(spotify))"
   ]
  },
  {
   "cell_type": "code",
   "execution_count": 7,
   "id": "d761ac2a",
   "metadata": {},
   "outputs": [
    {
     "name": "stdout",
     "output_type": "stream",
     "text": [
      "Train and test set sizes: 26266 6567\n"
     ]
    }
   ],
   "source": [
    "# spotify = spotify.sort_values(by=['track_artist'], ascending=True)\n",
    "# spotify.head(25)\n",
    "\n",
    "# Split data into training and test sets\n",
    "training_size = int(spotify.shape[0] * 0.8)\n",
    "\n",
    "train = spotify[:training_size]\n",
    "test = spotify[training_size:]\n",
    "\n",
    "print('Train and test set sizes:', len(train), len(test))"
   ]
  },
  {
   "cell_type": "code",
   "execution_count": null,
   "id": "6d9b0401",
   "metadata": {},
   "outputs": [],
   "source": []
  },
  {
   "cell_type": "code",
   "execution_count": null,
   "id": "ccf4cc92",
   "metadata": {},
   "outputs": [],
   "source": []
  }
 ],
 "metadata": {
  "kernelspec": {
   "display_name": "Python 3 (ipykernel)",
   "language": "python",
   "name": "python3"
  },
  "language_info": {
   "codemirror_mode": {
    "name": "ipython",
    "version": 3
   },
   "file_extension": ".py",
   "mimetype": "text/x-python",
   "name": "python",
   "nbconvert_exporter": "python",
   "pygments_lexer": "ipython3",
   "version": "3.11.4"
  }
 },
 "nbformat": 4,
 "nbformat_minor": 5
}
